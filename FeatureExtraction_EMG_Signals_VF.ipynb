{
  "nbformat": 4,
  "nbformat_minor": 0,
  "metadata": {
    "colab": {
      "name": "FeatureExtraction_EMG_Signals_VF.ipynb",
      "provenance": [],
      "include_colab_link": true
    },
    "kernelspec": {
      "name": "python3",
      "display_name": "Python 3"
    },
    "language_info": {
      "name": "python"
    }
  },
  "cells": [
    {
      "cell_type": "markdown",
      "metadata": {
        "id": "view-in-github",
        "colab_type": "text"
      },
      "source": [
        "<a href=\"https://colab.research.google.com/github/nandrom/senalesIII/blob/main/FeatureExtraction_EMG_Signals_VF.ipynb\" target=\"_parent\"><img src=\"https://colab.research.google.com/assets/colab-badge.svg\" alt=\"Open In Colab\"/></a>"
      ]
    },
    {
      "cell_type": "code",
      "source": [
        "from google.colab import drive\n",
        "drive.mount('/content/drive')"
      ],
      "metadata": {
        "colab": {
          "base_uri": "https://localhost:8080/"
        },
        "id": "g818exz2f7Bb",
        "outputId": "4ec61bfd-871a-485c-932b-8728abbc4ceb"
      },
      "execution_count": null,
      "outputs": [
        {
          "output_type": "stream",
          "name": "stdout",
          "text": [
            "Drive already mounted at /content/drive; to attempt to forcibly remount, call drive.mount(\"/content/drive\", force_remount=True).\n"
          ]
        }
      ]
    },
    {
      "cell_type": "code",
      "source": [
        "from scipy.io import loadmat\n",
        "!pip install antropy\n",
        "ruta = '/content/drive/MyDrive/Señales 3/Notebooks/data/FeatureExtraction/'\n",
        "data = loadmat(ruta+'S1_20140620T021349.mat')\n",
        "data_ACC = data['data_ACC']\n",
        "data_EMG = data['data_EMG']"
      ],
      "metadata": {
        "id": "zN0P__DKgL6c",
        "colab": {
          "base_uri": "https://localhost:8080/"
        },
        "outputId": "7c40d222-7592-4315-a8d6-4dcf7cd201c6"
      },
      "execution_count": null,
      "outputs": [
        {
          "output_type": "stream",
          "name": "stdout",
          "text": [
            "Requirement already satisfied: antropy in /usr/local/lib/python3.7/dist-packages (0.1.4)\n",
            "Requirement already satisfied: stochastic in /usr/local/lib/python3.7/dist-packages (from antropy) (0.6.0)\n",
            "Requirement already satisfied: scipy<2.0,>=1.3 in /usr/local/lib/python3.7/dist-packages (from stochastic->antropy) (1.4.1)\n",
            "Requirement already satisfied: numpy<2.0,>=1.17 in /usr/local/lib/python3.7/dist-packages (from stochastic->antropy) (1.19.5)\n"
          ]
        }
      ]
    },
    {
      "cell_type": "code",
      "execution_count": null,
      "metadata": {
        "id": "YZptSyZde_gh"
      },
      "outputs": [],
      "source": [
        "import scipy \n",
        "import numpy as np\n",
        "from scipy import signal\n",
        "import pywt\n",
        "import matplotlib.pyplot as plt\n",
        "from scipy.stats import entropy\n",
        "import antropy as ant\n",
        "\n",
        "fs = 4e3\n",
        "\n",
        "def featureExtractionEMG(sampleSignal):\n",
        "  # Esta función toma como argumento de entrada una señal EMG de 20000 muestras y retorna 13 caracteristicas relacionadas a la señal\n",
        "  # a. Removemos el nivel DC\n",
        "  nivelDC = np.mean(sampleSignal)\n",
        "  sampleSignal = sampleSignal-nivelDC\n",
        "  # b. Normalicemos las señales para que tengan amplitud unitaria\n",
        "  maxSignal = np.abs(np.max(sampleSignal))\n",
        "  sampleSignal = sampleSignal/maxSignal\n",
        "  # Realicemos el análisis STFT\n",
        "  f, t, Zxx = signal.stft(sampleSignal, fs, nperseg=512)\n",
        "\n",
        "  rms = np.sqrt((np.sum(sampleSignal)**2)/len(sampleSignal))\n",
        "  mae = np.sum(sampleSignal)/len(sampleSignal)\n",
        "  # En la matriz Zxx se tiene una matriz de #defrecs * #times\n",
        "# Zxx[i,j], sería el espectro en la frecuencia[i] y el tiempo [j]\n",
        "  absZxx = np.abs(Zxx)\n",
        "  Pmax_Zxx = np.max(absZxx,axis=1) # dB\n",
        "\n",
        "  Pmax_Zxx_dB = 20*np.log10(Pmax_Zxx)\n",
        "  idx = np.argsort(Pmax_Zxx_dB)\n",
        "  maximos = Pmax_Zxx_dB[idx]\n",
        "  auxPotmax_Zxx = maximos[-5:]\n",
        "  frecuencias = f[idx]\n",
        "  fPmax_Zxx = frecuencias[-5:]\n",
        "  #contador de cruces x cero\n",
        "  zerocrosscont = 0\n",
        "  for i in range (len(sampleSignal)-1):\n",
        "    if (sampleSignal[i] > 0 and sampleSignal[i+1] < 0 or sampleSignal[i] < 0 and sampleSignal[i+1] > 0):\n",
        "      zerocrosscont = zerocrosscont + 1\n",
        "  feature_set = np.zeros((13,))\n",
        "  feature_set[0] = rms\n",
        "  feature_set[1] = mae\n",
        "  feature_set[2:7] = auxPotmax_Zxx\n",
        "  feature_set[7:12] = fPmax_Zxx\n",
        "  feature_set[12] = zerocrosscont\n",
        "  return feature_set\n",
        "\n",
        "def calculate_entropy(list_values):\n",
        "  entropyVal = ant.perm_entropy(list_values, normalize=True)\n",
        "  return entropyVal\n",
        "\n",
        "def calculate_statistics(list_values):\n",
        "  n5 = np.nanpercentile(list_values, 5)\n",
        "  n25 = np.nanpercentile(list_values, 25)\n",
        "  n75 = np.nanpercentile(list_values, 75)\n",
        "  n95 = np.nanpercentile(list_values, 95)\n",
        "  median = np.nanpercentile(list_values, 50)\n",
        "  mean = np.nanmean(list_values)\n",
        "  std = np.nanstd(list_values)\n",
        "  var = np.nanvar(list_values)\n",
        "  rms = np.nanmean(np.sqrt(list_values**2))\n",
        "  return [n5, n25, n75, n95, median, mean, std, var, rms]\n",
        "\n",
        "def calculate_crossings(list_values):\n",
        "  zero_crossing_indices = np.where(np.diff(np.signbit(list_values)))[0]\n",
        "  no_zero_crossings = len(zero_crossing_indices)\n",
        "  mean_crossing_indices = np.where(np.diff(np.signbit(list_values-np.nanmean(list_values))))[0]\n",
        "  no_mean_crossings = len(mean_crossing_indices)\n",
        "  return [no_zero_crossings, no_mean_crossings]\n",
        "\n",
        "def get_features(list_values):\n",
        "  entropy = calculate_entropy(list_values)\n",
        "  crossings = calculate_crossings(list_values)\n",
        "  statistics = calculate_statistics(list_values)\n",
        "  return [entropy] + crossings + statistics"
      ]
    },
    {
      "cell_type": "code",
      "source": [
        "L_Signal, Classes, Ntrials = np.shape(data_EMG)\n",
        "Features_Mat = np.zeros(((Ntrials)*Classes,13))\n",
        "idx= 0\n",
        "for i in range(Classes):\n",
        "  for j in range(Ntrials):\n",
        "    sampleSignal = data_EMG[:,i,j]\n",
        "    Features_Mat[idx,:] = featureExtractionEMG(sampleSignal)\n",
        "    idx = idx + 1"
      ],
      "metadata": {
        "id": "DjBw7LapgnTK"
      },
      "execution_count": null,
      "outputs": []
    },
    {
      "cell_type": "code",
      "source": [
        "import pandas as pd\n",
        "Nombres = ['RMS','MAE','P1','P2','P3','P4','P5','F1','F2','F3','F4','F5','Num Cruces Por Cero']\n",
        "\n",
        "dataFrame = pd.DataFrame(data = Features_Mat, columns= Nombres)"
      ],
      "metadata": {
        "id": "3fl2keBeDGs3"
      },
      "execution_count": null,
      "outputs": []
    },
    {
      "cell_type": "code",
      "source": [
        "dataFrame"
      ],
      "metadata": {
        "colab": {
          "base_uri": "https://localhost:8080/",
          "height": 423
        },
        "id": "9DuUwppcDZRf",
        "outputId": "12e68f1f-51f8-4a46-a8c5-5b5abda485da"
      },
      "execution_count": null,
      "outputs": [
        {
          "output_type": "execute_result",
          "data": {
            "text/html": [
              "\n",
              "  <div id=\"df-79f0e5b8-2369-448b-975f-cbdbc2e16b0c\">\n",
              "    <div class=\"colab-df-container\">\n",
              "      <div>\n",
              "<style scoped>\n",
              "    .dataframe tbody tr th:only-of-type {\n",
              "        vertical-align: middle;\n",
              "    }\n",
              "\n",
              "    .dataframe tbody tr th {\n",
              "        vertical-align: top;\n",
              "    }\n",
              "\n",
              "    .dataframe thead th {\n",
              "        text-align: right;\n",
              "    }\n",
              "</style>\n",
              "<table border=\"1\" class=\"dataframe\">\n",
              "  <thead>\n",
              "    <tr style=\"text-align: right;\">\n",
              "      <th></th>\n",
              "      <th>RMS</th>\n",
              "      <th>MAE</th>\n",
              "      <th>P1</th>\n",
              "      <th>P2</th>\n",
              "      <th>P3</th>\n",
              "      <th>P4</th>\n",
              "      <th>P5</th>\n",
              "      <th>F1</th>\n",
              "      <th>F2</th>\n",
              "      <th>F3</th>\n",
              "      <th>F4</th>\n",
              "      <th>F5</th>\n",
              "      <th>Num Cruces Por Cero</th>\n",
              "    </tr>\n",
              "  </thead>\n",
              "  <tbody>\n",
              "    <tr>\n",
              "      <th>0</th>\n",
              "      <td>9.640368e-16</td>\n",
              "      <td>-6.816769e-18</td>\n",
              "      <td>-23.555504</td>\n",
              "      <td>-23.144994</td>\n",
              "      <td>-22.141017</td>\n",
              "      <td>-21.858218</td>\n",
              "      <td>-20.953300</td>\n",
              "      <td>109.3750</td>\n",
              "      <td>70.3125</td>\n",
              "      <td>62.5000</td>\n",
              "      <td>46.8750</td>\n",
              "      <td>54.6875</td>\n",
              "      <td>1578.0</td>\n",
              "    </tr>\n",
              "    <tr>\n",
              "      <th>1</th>\n",
              "      <td>7.222425e-17</td>\n",
              "      <td>-5.107026e-19</td>\n",
              "      <td>-21.086336</td>\n",
              "      <td>-20.220955</td>\n",
              "      <td>-20.144087</td>\n",
              "      <td>-19.844343</td>\n",
              "      <td>-19.724684</td>\n",
              "      <td>101.5625</td>\n",
              "      <td>46.8750</td>\n",
              "      <td>93.7500</td>\n",
              "      <td>62.5000</td>\n",
              "      <td>54.6875</td>\n",
              "      <td>1272.0</td>\n",
              "    </tr>\n",
              "    <tr>\n",
              "      <th>2</th>\n",
              "      <td>3.768222e-16</td>\n",
              "      <td>2.664535e-18</td>\n",
              "      <td>-21.633771</td>\n",
              "      <td>-21.490314</td>\n",
              "      <td>-21.376370</td>\n",
              "      <td>-21.065010</td>\n",
              "      <td>-20.740075</td>\n",
              "      <td>109.3750</td>\n",
              "      <td>62.5000</td>\n",
              "      <td>101.5625</td>\n",
              "      <td>70.3125</td>\n",
              "      <td>78.1250</td>\n",
              "      <td>1217.0</td>\n",
              "    </tr>\n",
              "    <tr>\n",
              "      <th>3</th>\n",
              "      <td>8.729714e-16</td>\n",
              "      <td>6.172840e-18</td>\n",
              "      <td>-20.278898</td>\n",
              "      <td>-19.938039</td>\n",
              "      <td>-19.766401</td>\n",
              "      <td>-19.335561</td>\n",
              "      <td>-18.570395</td>\n",
              "      <td>93.7500</td>\n",
              "      <td>78.1250</td>\n",
              "      <td>62.5000</td>\n",
              "      <td>46.8750</td>\n",
              "      <td>70.3125</td>\n",
              "      <td>1251.0</td>\n",
              "    </tr>\n",
              "    <tr>\n",
              "      <th>4</th>\n",
              "      <td>7.662051e-16</td>\n",
              "      <td>5.417888e-18</td>\n",
              "      <td>-19.416449</td>\n",
              "      <td>-19.050366</td>\n",
              "      <td>-18.806421</td>\n",
              "      <td>-18.668377</td>\n",
              "      <td>-17.773824</td>\n",
              "      <td>101.5625</td>\n",
              "      <td>109.3750</td>\n",
              "      <td>46.8750</td>\n",
              "      <td>78.1250</td>\n",
              "      <td>93.7500</td>\n",
              "      <td>1282.0</td>\n",
              "    </tr>\n",
              "    <tr>\n",
              "      <th>...</th>\n",
              "      <td>...</td>\n",
              "      <td>...</td>\n",
              "      <td>...</td>\n",
              "      <td>...</td>\n",
              "      <td>...</td>\n",
              "      <td>...</td>\n",
              "      <td>...</td>\n",
              "      <td>...</td>\n",
              "      <td>...</td>\n",
              "      <td>...</td>\n",
              "      <td>...</td>\n",
              "      <td>...</td>\n",
              "      <td>...</td>\n",
              "    </tr>\n",
              "    <tr>\n",
              "      <th>1129</th>\n",
              "      <td>5.514165e-15</td>\n",
              "      <td>3.899103e-17</td>\n",
              "      <td>-19.644577</td>\n",
              "      <td>-18.501406</td>\n",
              "      <td>-13.545892</td>\n",
              "      <td>-10.585466</td>\n",
              "      <td>-9.307036</td>\n",
              "      <td>85.9375</td>\n",
              "      <td>31.2500</td>\n",
              "      <td>39.0625</td>\n",
              "      <td>54.6875</td>\n",
              "      <td>46.8750</td>\n",
              "      <td>773.0</td>\n",
              "    </tr>\n",
              "    <tr>\n",
              "      <th>1130</th>\n",
              "      <td>2.600073e-15</td>\n",
              "      <td>1.838529e-17</td>\n",
              "      <td>-23.586442</td>\n",
              "      <td>-21.904199</td>\n",
              "      <td>-17.892399</td>\n",
              "      <td>-10.021839</td>\n",
              "      <td>-9.074029</td>\n",
              "      <td>31.2500</td>\n",
              "      <td>62.5000</td>\n",
              "      <td>39.0625</td>\n",
              "      <td>54.6875</td>\n",
              "      <td>46.8750</td>\n",
              "      <td>660.0</td>\n",
              "    </tr>\n",
              "    <tr>\n",
              "      <th>1131</th>\n",
              "      <td>2.951774e-16</td>\n",
              "      <td>-2.087219e-18</td>\n",
              "      <td>-19.941411</td>\n",
              "      <td>-19.417816</td>\n",
              "      <td>-18.516005</td>\n",
              "      <td>-12.465656</td>\n",
              "      <td>-11.446678</td>\n",
              "      <td>31.2500</td>\n",
              "      <td>62.5000</td>\n",
              "      <td>39.0625</td>\n",
              "      <td>54.6875</td>\n",
              "      <td>46.8750</td>\n",
              "      <td>899.0</td>\n",
              "    </tr>\n",
              "    <tr>\n",
              "      <th>1132</th>\n",
              "      <td>8.415696e-16</td>\n",
              "      <td>-5.950795e-18</td>\n",
              "      <td>-20.160685</td>\n",
              "      <td>-20.052003</td>\n",
              "      <td>-19.059053</td>\n",
              "      <td>-11.320301</td>\n",
              "      <td>-9.996900</td>\n",
              "      <td>31.2500</td>\n",
              "      <td>101.5625</td>\n",
              "      <td>39.0625</td>\n",
              "      <td>54.6875</td>\n",
              "      <td>46.8750</td>\n",
              "      <td>899.0</td>\n",
              "    </tr>\n",
              "    <tr>\n",
              "      <th>1133</th>\n",
              "      <td>5.181305e-15</td>\n",
              "      <td>3.663736e-17</td>\n",
              "      <td>-17.095496</td>\n",
              "      <td>-16.719139</td>\n",
              "      <td>-16.509552</td>\n",
              "      <td>-12.381740</td>\n",
              "      <td>-10.210241</td>\n",
              "      <td>70.3125</td>\n",
              "      <td>62.5000</td>\n",
              "      <td>39.0625</td>\n",
              "      <td>54.6875</td>\n",
              "      <td>46.8750</td>\n",
              "      <td>966.0</td>\n",
              "    </tr>\n",
              "  </tbody>\n",
              "</table>\n",
              "<p>1134 rows × 13 columns</p>\n",
              "</div>\n",
              "      <button class=\"colab-df-convert\" onclick=\"convertToInteractive('df-79f0e5b8-2369-448b-975f-cbdbc2e16b0c')\"\n",
              "              title=\"Convert this dataframe to an interactive table.\"\n",
              "              style=\"display:none;\">\n",
              "        \n",
              "  <svg xmlns=\"http://www.w3.org/2000/svg\" height=\"24px\"viewBox=\"0 0 24 24\"\n",
              "       width=\"24px\">\n",
              "    <path d=\"M0 0h24v24H0V0z\" fill=\"none\"/>\n",
              "    <path d=\"M18.56 5.44l.94 2.06.94-2.06 2.06-.94-2.06-.94-.94-2.06-.94 2.06-2.06.94zm-11 1L8.5 8.5l.94-2.06 2.06-.94-2.06-.94L8.5 2.5l-.94 2.06-2.06.94zm10 10l.94 2.06.94-2.06 2.06-.94-2.06-.94-.94-2.06-.94 2.06-2.06.94z\"/><path d=\"M17.41 7.96l-1.37-1.37c-.4-.4-.92-.59-1.43-.59-.52 0-1.04.2-1.43.59L10.3 9.45l-7.72 7.72c-.78.78-.78 2.05 0 2.83L4 21.41c.39.39.9.59 1.41.59.51 0 1.02-.2 1.41-.59l7.78-7.78 2.81-2.81c.8-.78.8-2.07 0-2.86zM5.41 20L4 18.59l7.72-7.72 1.47 1.35L5.41 20z\"/>\n",
              "  </svg>\n",
              "      </button>\n",
              "      \n",
              "  <style>\n",
              "    .colab-df-container {\n",
              "      display:flex;\n",
              "      flex-wrap:wrap;\n",
              "      gap: 12px;\n",
              "    }\n",
              "\n",
              "    .colab-df-convert {\n",
              "      background-color: #E8F0FE;\n",
              "      border: none;\n",
              "      border-radius: 50%;\n",
              "      cursor: pointer;\n",
              "      display: none;\n",
              "      fill: #1967D2;\n",
              "      height: 32px;\n",
              "      padding: 0 0 0 0;\n",
              "      width: 32px;\n",
              "    }\n",
              "\n",
              "    .colab-df-convert:hover {\n",
              "      background-color: #E2EBFA;\n",
              "      box-shadow: 0px 1px 2px rgba(60, 64, 67, 0.3), 0px 1px 3px 1px rgba(60, 64, 67, 0.15);\n",
              "      fill: #174EA6;\n",
              "    }\n",
              "\n",
              "    [theme=dark] .colab-df-convert {\n",
              "      background-color: #3B4455;\n",
              "      fill: #D2E3FC;\n",
              "    }\n",
              "\n",
              "    [theme=dark] .colab-df-convert:hover {\n",
              "      background-color: #434B5C;\n",
              "      box-shadow: 0px 1px 3px 1px rgba(0, 0, 0, 0.15);\n",
              "      filter: drop-shadow(0px 1px 2px rgba(0, 0, 0, 0.3));\n",
              "      fill: #FFFFFF;\n",
              "    }\n",
              "  </style>\n",
              "\n",
              "      <script>\n",
              "        const buttonEl =\n",
              "          document.querySelector('#df-79f0e5b8-2369-448b-975f-cbdbc2e16b0c button.colab-df-convert');\n",
              "        buttonEl.style.display =\n",
              "          google.colab.kernel.accessAllowed ? 'block' : 'none';\n",
              "\n",
              "        async function convertToInteractive(key) {\n",
              "          const element = document.querySelector('#df-79f0e5b8-2369-448b-975f-cbdbc2e16b0c');\n",
              "          const dataTable =\n",
              "            await google.colab.kernel.invokeFunction('convertToInteractive',\n",
              "                                                     [key], {});\n",
              "          if (!dataTable) return;\n",
              "\n",
              "          const docLinkHtml = 'Like what you see? Visit the ' +\n",
              "            '<a target=\"_blank\" href=https://colab.research.google.com/notebooks/data_table.ipynb>data table notebook</a>'\n",
              "            + ' to learn more about interactive tables.';\n",
              "          element.innerHTML = '';\n",
              "          dataTable['output_type'] = 'display_data';\n",
              "          await google.colab.output.renderOutput(dataTable, element);\n",
              "          const docLink = document.createElement('div');\n",
              "          docLink.innerHTML = docLinkHtml;\n",
              "          element.appendChild(docLink);\n",
              "        }\n",
              "      </script>\n",
              "    </div>\n",
              "  </div>\n",
              "  "
            ],
            "text/plain": [
              "               RMS           MAE  ...       F5  Num Cruces Por Cero\n",
              "0     9.640368e-16 -6.816769e-18  ...  54.6875               1578.0\n",
              "1     7.222425e-17 -5.107026e-19  ...  54.6875               1272.0\n",
              "2     3.768222e-16  2.664535e-18  ...  78.1250               1217.0\n",
              "3     8.729714e-16  6.172840e-18  ...  70.3125               1251.0\n",
              "4     7.662051e-16  5.417888e-18  ...  93.7500               1282.0\n",
              "...            ...           ...  ...      ...                  ...\n",
              "1129  5.514165e-15  3.899103e-17  ...  46.8750                773.0\n",
              "1130  2.600073e-15  1.838529e-17  ...  46.8750                660.0\n",
              "1131  2.951774e-16 -2.087219e-18  ...  46.8750                899.0\n",
              "1132  8.415696e-16 -5.950795e-18  ...  46.8750                899.0\n",
              "1133  5.181305e-15  3.663736e-17  ...  46.8750                966.0\n",
              "\n",
              "[1134 rows x 13 columns]"
            ]
          },
          "metadata": {},
          "execution_count": 8
        }
      ]
    },
    {
      "cell_type": "code",
      "source": [
        "nDesc = 3\n",
        "waveletname = 'sym'+str(nDesc)\n",
        " \n",
        "fig, axarr = plt.subplots(nrows=nDesc, ncols=2, figsize=(6,6))\n",
        "for ii in range(nDesc):\n",
        "    (data, coeff_d) = pywt.dwt(data, waveletname)\n",
        "    # extraer las D (inicialmente 22) caracteristicas a la variable data\n",
        "    axarr[ii, 0].plot(data, 'r')\n",
        "    axarr[ii, 1].plot(coeff_d, 'g')\n",
        "    axarr[ii, 0].set_ylabel(\"Level {}\".format(ii + 1), fontsize=14, rotation=90)\n",
        "    axarr[ii, 0].set_yticklabels([])\n",
        "    if ii == 0:\n",
        "        axarr[ii, 0].set_title(\"Approximation coefficients\", fontsize=14)\n",
        "        axarr[ii, 1].set_title(\"Detail coefficients\", fontsize=14)\n",
        "    axarr[ii, 1].set_yticklabels([])\n",
        "plt.tight_layout()\n",
        "plt.show()"
      ],
      "metadata": {
        "id": "0ZdJ8kwpgoo9",
        "colab": {
          "base_uri": "https://localhost:8080/",
          "height": 741
        },
        "outputId": "7afb9b68-0b09-428c-a3ad-6eb33ce22db1"
      },
      "execution_count": null,
      "outputs": [
        {
          "output_type": "error",
          "ename": "TypeError",
          "evalue": "ignored",
          "traceback": [
            "\u001b[0;31m---------------------------------------------------------------------------\u001b[0m",
            "\u001b[0;31mTypeError\u001b[0m                                 Traceback (most recent call last)",
            "\u001b[0;32m<ipython-input-9-251e9b4b8e0d>\u001b[0m in \u001b[0;36m<module>\u001b[0;34m()\u001b[0m\n\u001b[1;32m      4\u001b[0m \u001b[0mfig\u001b[0m\u001b[0;34m,\u001b[0m \u001b[0maxarr\u001b[0m \u001b[0;34m=\u001b[0m \u001b[0mplt\u001b[0m\u001b[0;34m.\u001b[0m\u001b[0msubplots\u001b[0m\u001b[0;34m(\u001b[0m\u001b[0mnrows\u001b[0m\u001b[0;34m=\u001b[0m\u001b[0mnDesc\u001b[0m\u001b[0;34m,\u001b[0m \u001b[0mncols\u001b[0m\u001b[0;34m=\u001b[0m\u001b[0;36m2\u001b[0m\u001b[0;34m,\u001b[0m \u001b[0mfigsize\u001b[0m\u001b[0;34m=\u001b[0m\u001b[0;34m(\u001b[0m\u001b[0;36m6\u001b[0m\u001b[0;34m,\u001b[0m\u001b[0;36m6\u001b[0m\u001b[0;34m)\u001b[0m\u001b[0;34m)\u001b[0m\u001b[0;34m\u001b[0m\u001b[0;34m\u001b[0m\u001b[0m\n\u001b[1;32m      5\u001b[0m \u001b[0;32mfor\u001b[0m \u001b[0mii\u001b[0m \u001b[0;32min\u001b[0m \u001b[0mrange\u001b[0m\u001b[0;34m(\u001b[0m\u001b[0mnDesc\u001b[0m\u001b[0;34m)\u001b[0m\u001b[0;34m:\u001b[0m\u001b[0;34m\u001b[0m\u001b[0;34m\u001b[0m\u001b[0m\n\u001b[0;32m----> 6\u001b[0;31m     \u001b[0;34m(\u001b[0m\u001b[0mdata\u001b[0m\u001b[0;34m,\u001b[0m \u001b[0mcoeff_d\u001b[0m\u001b[0;34m)\u001b[0m \u001b[0;34m=\u001b[0m \u001b[0mpywt\u001b[0m\u001b[0;34m.\u001b[0m\u001b[0mdwt\u001b[0m\u001b[0;34m(\u001b[0m\u001b[0mdata\u001b[0m\u001b[0;34m,\u001b[0m \u001b[0mwaveletname\u001b[0m\u001b[0;34m)\u001b[0m\u001b[0;34m\u001b[0m\u001b[0;34m\u001b[0m\u001b[0m\n\u001b[0m\u001b[1;32m      7\u001b[0m     \u001b[0;31m# extraer las D (inicialmente 22) caracteristicas a la variable data\u001b[0m\u001b[0;34m\u001b[0m\u001b[0;34m\u001b[0m\u001b[0;34m\u001b[0m\u001b[0m\n\u001b[1;32m      8\u001b[0m     \u001b[0maxarr\u001b[0m\u001b[0;34m[\u001b[0m\u001b[0mii\u001b[0m\u001b[0;34m,\u001b[0m \u001b[0;36m0\u001b[0m\u001b[0;34m]\u001b[0m\u001b[0;34m.\u001b[0m\u001b[0mplot\u001b[0m\u001b[0;34m(\u001b[0m\u001b[0mdata\u001b[0m\u001b[0;34m,\u001b[0m \u001b[0;34m'r'\u001b[0m\u001b[0;34m)\u001b[0m\u001b[0;34m\u001b[0m\u001b[0;34m\u001b[0m\u001b[0m\n",
            "\u001b[0;32m/usr/local/lib/python3.7/dist-packages/pywt/_dwt.py\u001b[0m in \u001b[0;36mdwt\u001b[0;34m(data, wavelet, mode, axis)\u001b[0m\n\u001b[1;32m    170\u001b[0m     \u001b[0;31m# accept array_like input; make a copy to ensure a contiguous array\u001b[0m\u001b[0;34m\u001b[0m\u001b[0;34m\u001b[0m\u001b[0;34m\u001b[0m\u001b[0m\n\u001b[1;32m    171\u001b[0m     \u001b[0mdt\u001b[0m \u001b[0;34m=\u001b[0m \u001b[0m_check_dtype\u001b[0m\u001b[0;34m(\u001b[0m\u001b[0mdata\u001b[0m\u001b[0;34m)\u001b[0m\u001b[0;34m\u001b[0m\u001b[0;34m\u001b[0m\u001b[0m\n\u001b[0;32m--> 172\u001b[0;31m     \u001b[0mdata\u001b[0m \u001b[0;34m=\u001b[0m \u001b[0mnp\u001b[0m\u001b[0;34m.\u001b[0m\u001b[0masarray\u001b[0m\u001b[0;34m(\u001b[0m\u001b[0mdata\u001b[0m\u001b[0;34m,\u001b[0m \u001b[0mdtype\u001b[0m\u001b[0;34m=\u001b[0m\u001b[0mdt\u001b[0m\u001b[0;34m,\u001b[0m \u001b[0morder\u001b[0m\u001b[0;34m=\u001b[0m\u001b[0;34m'C'\u001b[0m\u001b[0;34m)\u001b[0m\u001b[0;34m\u001b[0m\u001b[0;34m\u001b[0m\u001b[0m\n\u001b[0m\u001b[1;32m    173\u001b[0m     \u001b[0mmode\u001b[0m \u001b[0;34m=\u001b[0m \u001b[0mModes\u001b[0m\u001b[0;34m.\u001b[0m\u001b[0mfrom_object\u001b[0m\u001b[0;34m(\u001b[0m\u001b[0mmode\u001b[0m\u001b[0;34m)\u001b[0m\u001b[0;34m\u001b[0m\u001b[0;34m\u001b[0m\u001b[0m\n\u001b[1;32m    174\u001b[0m     \u001b[0mwavelet\u001b[0m \u001b[0;34m=\u001b[0m \u001b[0m_as_wavelet\u001b[0m\u001b[0;34m(\u001b[0m\u001b[0mwavelet\u001b[0m\u001b[0;34m)\u001b[0m\u001b[0;34m\u001b[0m\u001b[0;34m\u001b[0m\u001b[0m\n",
            "\u001b[0;32m/usr/local/lib/python3.7/dist-packages/numpy/core/_asarray.py\u001b[0m in \u001b[0;36masarray\u001b[0;34m(a, dtype, order)\u001b[0m\n\u001b[1;32m     81\u001b[0m \u001b[0;34m\u001b[0m\u001b[0m\n\u001b[1;32m     82\u001b[0m     \"\"\"\n\u001b[0;32m---> 83\u001b[0;31m     \u001b[0;32mreturn\u001b[0m \u001b[0marray\u001b[0m\u001b[0;34m(\u001b[0m\u001b[0ma\u001b[0m\u001b[0;34m,\u001b[0m \u001b[0mdtype\u001b[0m\u001b[0;34m,\u001b[0m \u001b[0mcopy\u001b[0m\u001b[0;34m=\u001b[0m\u001b[0;32mFalse\u001b[0m\u001b[0;34m,\u001b[0m \u001b[0morder\u001b[0m\u001b[0;34m=\u001b[0m\u001b[0morder\u001b[0m\u001b[0;34m)\u001b[0m\u001b[0;34m\u001b[0m\u001b[0;34m\u001b[0m\u001b[0m\n\u001b[0m\u001b[1;32m     84\u001b[0m \u001b[0;34m\u001b[0m\u001b[0m\n\u001b[1;32m     85\u001b[0m \u001b[0;34m\u001b[0m\u001b[0m\n",
            "\u001b[0;31mTypeError\u001b[0m: float() argument must be a string or a number, not 'dict'"
          ]
        },
        {
          "output_type": "display_data",
          "data": {
            "image/png": "[encoded data removed]",
            "text/plain": [
              "<Figure size 432x432 with 6 Axes>"
            ]
          },
          "metadata": {
            "needs_background": "light"
          }
        }
      ]
    },
    {
      "cell_type": "code",
      "source": [
        "Features_Mat_Wt = np.zeros((Ntrials*Classes*nDesc,12*nDesc))"
      ],
      "metadata": {
        "id": "HEa_WhF3HRHK"
      },
      "execution_count": null,
      "outputs": []
    },
    {
      "cell_type": "code",
      "source": [
        "# Extraccion de caracteristicas de las Wavelet\n",
        "nDesc = 3\n",
        "waveletname = 'sym'+str(nDesc)\n",
        "Features_Mat_Wt = np.zeros((Ntrials*Classes,12*(nDesc+1))) # +1 para incluir los coeficioentes definidos de la 1er Wt\n",
        "idx= 0\n",
        "for i in range(Classes):\n",
        "  for j in range(Ntrials):\n",
        "    sampleSignal = data_EMG[:,i,j]\n",
        "    for ii in range(nDesc):\n",
        "      (sampleSignal, coeff_d) = pywt.dwt(sampleSignal, waveletname)\n",
        "      if ii==0:\n",
        "        Features_Mat_Wt[idx,ii*12:(ii+1)*12] = get_features(sampleSignal)\n",
        "        Features_Mat_Wt[idx,12*nDesc:] = get_features(coeff_d)\n",
        "      else:  \n",
        "        Features_Mat_Wt[idx,ii*12:(ii+1)*12] = get_features(sampleSignal)\n",
        "    idx = idx + 1"
      ],
      "metadata": {
        "id": "bHSGHE58_gbx"
      },
      "execution_count": null,
      "outputs": []
    },
    {
      "cell_type": "code",
      "source": [
        "Nombres = ['Entropy_Wt1','no_zero_crossings_Wt1','no_mean_crossings_Wt1','n5_Wt1', 'n25_Wt1', 'n75_Wt1', 'n95_Wt1', 'median_Wt1', 'mean_Wt1', 'std_Wt1', 'var_Wt1', 'rms_Wt1','Entropy_Wt2','no_zero_crossings_Wt2','no_mean_crossings_Wt2','n5_Wt2', 'n25_Wt2', 'n75_Wt2', 'n95_Wt2', 'median_Wt2', 'mean_Wt2', 'std_Wt2', 'var_Wt2', 'rms_Wt2','Entropy_Wt3','no_zero_crossings_Wt3','no_mean_crossings_Wt3','n5_Wt3', 'n25_Wt3', 'n75_Wt3', 'n95_Wt3', 'median_Wt3', 'mean_Wt3', 'std_Wt3', 'var_Wt3', 'rms_Wt3', 'Entropy_coeff1','no_zero_crossings_coeff1','no_mean_crossings_coeff1','n5_coeff1', 'n25_coeff1', 'n75_coeff1', 'n95_coeff1', 'median_coeff1', 'mean_coeff1', 'std_coeff1', 'var_coeff1', 'rms_coeff1']\n",
        "\n",
        "dataFrame2 = pd.DataFrame(data = Features_Mat_Wt, columns= Nombres)\n",
        "dataFrame2"
      ],
      "metadata": {
        "id": "8xUImtGQL8QB"
      },
      "execution_count": null,
      "outputs": []
    },
    {
      "cell_type": "code",
      "source": [
        "Features_Mat_Full = np.concatenate((Features_Mat,Features_Mat_Wt),axis=1)\n",
        "Nombres = ['RMS','MAE','P1','P2','P3','P4','P5','F1','F2','F3','F4','F5','Num Cruces Por Cero','Entropy_Wt1','no_zero_crossings_Wt1','no_mean_crossings_Wt1','n5_Wt1', 'n25_Wt1', 'n75_Wt1', 'n95_Wt1', 'median_Wt1', 'mean_Wt1', 'std_Wt1', 'var_Wt1', 'rms_Wt1','Entropy_Wt2','no_zero_crossings_Wt2','no_mean_crossings_Wt2','n5_Wt2', 'n25_Wt2', 'n75_Wt2', 'n95_Wt2', 'median_Wt2', 'mean_Wt2', 'std_Wt2', 'var_Wt2', 'rms_Wt2','Entropy_Wt3','no_zero_crossings_Wt3','no_mean_crossings_Wt3','n5_Wt3', 'n25_Wt3', 'n75_Wt3', 'n95_Wt3', 'median_Wt3', 'mean_Wt3', 'std_Wt3', 'var_Wt3', 'rms_Wt3', 'Entropy_coeff1','no_zero_crossings_coeff1','no_mean_crossings_coeff1','n5_coeff1', 'n25_coeff1', 'n75_coeff1', 'n95_coeff1', 'median_coeff1', 'mean_coeff1', 'std_coeff1', 'var_coeff1', 'rms_coeff1']\n",
        "\n",
        "CompletedataFrame = pd.DataFrame(data = Features_Mat_Full, columns= Nombres)\n",
        "CompletedataFrame"
      ],
      "metadata": {
        "id": "YRqZlodB0JKs"
      },
      "execution_count": null,
      "outputs": []
    },
    {
      "cell_type": "code",
      "source": [
        "import seaborn as sns\n",
        "\n",
        "sns.pairplot(CompletedataFrame, hue=\"Tipo Mov\")"
      ],
      "metadata": {
        "id": "JZgtqc4B0JbS"
      },
      "execution_count": null,
      "outputs": []
    }
  ]
}